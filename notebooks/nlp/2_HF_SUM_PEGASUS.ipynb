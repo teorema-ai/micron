{
 "cells": [
  {
   "cell_type": "markdown",
   "id": "d6bf0544-0e78-4e1c-af3e-8130740193f9",
   "metadata": {},
   "source": [
    "# HUGGINGFACE PAGE:\n",
    "https://huggingface.co/human-centered-summarization/financial-summarization-pegasus"
   ]
  },
  {
   "cell_type": "markdown",
   "id": "e8ce054a-b4ff-4321-8b37-d6597c1de5ef",
   "metadata": {},
   "source": [
    "# PREREQUISITES"
   ]
  },
  {
   "cell_type": "code",
   "execution_count": 1,
   "id": "d42cda4e-2825-4161-b78f-1773161ce86f",
   "metadata": {
    "tags": []
   },
   "outputs": [],
   "source": [
    "#!pip install transformers datasets evaluate"
   ]
  },
  {
   "cell_type": "code",
   "execution_count": 2,
   "id": "e760625c-d42f-4241-b2da-e632a0384ec0",
   "metadata": {},
   "outputs": [],
   "source": [
    "#!pip install -U ipywidgets>=8"
   ]
  },
  {
   "cell_type": "code",
   "execution_count": 3,
   "id": "cf50af73-5faf-400c-b012-fe40be7ef424",
   "metadata": {},
   "outputs": [],
   "source": [
    "#pip install sentencepiece"
   ]
  },
  {
   "cell_type": "markdown",
   "id": "55d68bf9-a72d-4614-b439-7f23b0b89971",
   "metadata": {},
   "source": [
    "# PEGASUS"
   ]
  },
  {
   "cell_type": "raw",
   "id": "d1be752f-ddd9-4d73-94a9-d66b8fe36c3c",
   "metadata": {
    "jupyter": {
     "source_hidden": true
    },
    "tags": []
   },
   "source": [
    "from transformers import PegasusTokenizer, PegasusForConditionalGeneration, TFPegasusForConditionalGeneration\n",
    "\n",
    "# Let's load the model and the tokenizer \n",
    "model_name = \"human-centered-summarization/financial-summarization-pegasus\"\n",
    "tokenizer = PegasusTokenizer.from_pretrained(model_name)\n",
    "model = PegasusForConditionalGeneration.from_pretrained(model_name) # If you want to use the Tensorflow model \n",
    "                                                                    # just replace with TFPegasusForConditionalGeneration\n",
    "\n",
    "\n",
    "# Some text to summarize here\n",
    "text_to_summarize = \"National Commercial Bank (NCB), Saudi Arabia’s largest lender by assets, agreed to buy rival Samba Financial Group for $15 billion in the biggest banking takeover this year.NCB will pay 28.45 riyals ($7.58) for each Samba share, according to a statement on Sunday, valuing it at about 55.7 billion riyals. NCB will offer 0.739 new shares for each Samba share, at the lower end of the 0.736-0.787 ratio the banks set when they signed an initial framework agreement in June.The offer is a 3.5% premium to Samba’s Oct. 8 closing price of 27.50 riyals and about 24% higher than the level the shares traded at before the talks were made public. Bloomberg News first reported the merger discussions.The new bank will have total assets of more than $220 billion, creating the Gulf region’s third-largest lender. The entity’s $46 billion market capitalization nearly matches that of Qatar National Bank QPSC, which is still the Middle East’s biggest lender with about $268 billion of assets.\"\n",
    "\n",
    "# Tokenize our text\n",
    "# If you want to run the code in Tensorflow, please remember to return the particular tensors as simply as using return_tensors = 'tf'\n",
    "input_ids = tokenizer(text_to_summarize, return_tensors=\"pt\").input_ids\n",
    "\n",
    "# Generate the output (Here, we use beam search but you can also use any other strategy you like)\n",
    "output = model.generate(\n",
    "    input_ids, \n",
    "    max_length=32, \n",
    "    num_beams=5, \n",
    "    early_stopping=True\n",
    ")\n",
    "\n",
    "# Finally, we can print the generated summary\n",
    "print(tokenizer.decode(output[0], skip_special_tokens=True))\n",
    "# Generated Output: Saudi bank to pay a 3.5% premium to Samba share price. Gulf region’s third-largest lender will have total assets of $220 billion"
   ]
  },
  {
   "cell_type": "code",
   "execution_count": 4,
   "id": "98499ff3-093d-457b-a032-8595325a0038",
   "metadata": {},
   "outputs": [],
   "source": [
    "from transformers import PegasusTokenizer, PegasusForConditionalGeneration, TFPegasusForConditionalGeneration"
   ]
  },
  {
   "cell_type": "code",
   "execution_count": 5,
   "id": "b32aea2c-899e-495f-992d-d622a135b8b5",
   "metadata": {},
   "outputs": [
    {
     "data": {
      "application/json": {
       "ascii": false,
       "bar_format": null,
       "colour": null,
       "elapsed": 0.01710200309753418,
       "initial": 0,
       "n": 0,
       "ncols": null,
       "nrows": null,
       "postfix": null,
       "prefix": "Downloading (…)\"spiece.model\";",
       "rate": null,
       "total": 1912529,
       "unit": "B",
       "unit_divisor": 1000,
       "unit_scale": true
      },
      "application/vnd.jupyter.widget-view+json": {
       "model_id": "18491629df904bff9096aaaa2284faa8",
       "version_major": 2,
       "version_minor": 0
      },
      "text/plain": [
       "Downloading (…)\"spiece.model\";:   0%|          | 0.00/1.91M [00:00<?, ?B/s]"
      ]
     },
     "metadata": {},
     "output_type": "display_data"
    },
    {
     "data": {
      "application/json": {
       "ascii": false,
       "bar_format": null,
       "colour": null,
       "elapsed": 0.012773513793945312,
       "initial": 0,
       "n": 0,
       "ncols": null,
       "nrows": null,
       "postfix": null,
       "prefix": "Downloading (…)cial_tokens_map.json",
       "rate": null,
       "total": 1341,
       "unit": "B",
       "unit_divisor": 1000,
       "unit_scale": true
      },
      "application/vnd.jupyter.widget-view+json": {
       "model_id": "5223dbe6824648209c1bff380a035ae5",
       "version_major": 2,
       "version_minor": 0
      },
      "text/plain": [
       "Downloading (…)cial_tokens_map.json:   0%|          | 0.00/1.34k [00:00<?, ?B/s]"
      ]
     },
     "metadata": {},
     "output_type": "display_data"
    },
    {
     "data": {
      "application/json": {
       "ascii": false,
       "bar_format": null,
       "colour": null,
       "elapsed": 0.01287531852722168,
       "initial": 0,
       "n": 0,
       "ncols": null,
       "nrows": null,
       "postfix": null,
       "prefix": "Downloading (…)okenizer_config.json",
       "rate": null,
       "total": 1436,
       "unit": "B",
       "unit_divisor": 1000,
       "unit_scale": true
      },
      "application/vnd.jupyter.widget-view+json": {
       "model_id": "cc0037dc67c04e4b90e6efc8c236e871",
       "version_major": 2,
       "version_minor": 0
      },
      "text/plain": [
       "Downloading (…)okenizer_config.json:   0%|          | 0.00/1.44k [00:00<?, ?B/s]"
      ]
     },
     "metadata": {},
     "output_type": "display_data"
    },
    {
     "data": {
      "application/json": {
       "ascii": false,
       "bar_format": null,
       "colour": null,
       "elapsed": 0.01284646987915039,
       "initial": 0,
       "n": 0,
       "ncols": null,
       "nrows": null,
       "postfix": null,
       "prefix": "Downloading (…)lve/main/config.json",
       "rate": null,
       "total": 1274,
       "unit": "B",
       "unit_divisor": 1000,
       "unit_scale": true
      },
      "application/vnd.jupyter.widget-view+json": {
       "model_id": "5ed5d5ef083c4aa2b8850a91fe01c266",
       "version_major": 2,
       "version_minor": 0
      },
      "text/plain": [
       "Downloading (…)lve/main/config.json:   0%|          | 0.00/1.27k [00:00<?, ?B/s]"
      ]
     },
     "metadata": {},
     "output_type": "display_data"
    },
    {
     "data": {
      "application/json": {
       "ascii": false,
       "bar_format": null,
       "colour": null,
       "elapsed": 0.01246023178100586,
       "initial": 0,
       "n": 0,
       "ncols": null,
       "nrows": null,
       "postfix": null,
       "prefix": "Downloading (…)\"pytorch_model.bin\";",
       "rate": null,
       "total": 2275419259,
       "unit": "B",
       "unit_divisor": 1000,
       "unit_scale": true
      },
      "application/vnd.jupyter.widget-view+json": {
       "model_id": "b66fd3e908bd438e87c7899203f5b5b1",
       "version_major": 2,
       "version_minor": 0
      },
      "text/plain": [
       "Downloading (…)\"pytorch_model.bin\";:   0%|          | 0.00/2.28G [00:00<?, ?B/s]"
      ]
     },
     "metadata": {},
     "output_type": "display_data"
    }
   ],
   "source": [
    "model_name = \"human-centered-summarization/financial-summarization-pegasus\"\n",
    "tokenizer = PegasusTokenizer.from_pretrained(model_name)\n",
    "model = PegasusForConditionalGeneration.from_pretrained(model_name) # If you want to use the Tensorflow model \n",
    "                                                                    # just replace with TFPegasusForConditionalGeneration"
   ]
  },
  {
   "cell_type": "code",
   "execution_count": 15,
   "id": "26e50aac-ead9-4de4-92e9-0bdf7c4af220",
   "metadata": {},
   "outputs": [],
   "source": [
    "TEXT_0 = \"National Commercial Bank (NCB), Saudi Arabia’s largest lender by assets, agreed to buy rival Samba Financial Group for $15 billion in the biggest banking takeover this year.NCB will pay 28.45 riyals ($7.58) for each Samba share, according to a statement on Sunday, valuing it at about 55.7 billion riyals. NCB will offer 0.739 new shares for each Samba share, at the lower end of the 0.736-0.787 ratio the banks set when they signed an initial framework agreement in June.The offer is a 3.5% premium to Samba’s Oct. 8 closing price of 27.50 riyals and about 24% higher than the level the shares traded at before the talks were made public. Bloomberg News first reported the merger discussions.The new bank will have total assets of more than $220 billion, creating the Gulf region’s third-largest lender. The entity’s $46 billion market capitalization nearly matches that of Qatar National Bank QPSC, which is still the Middle East’s biggest lender with about $268 billion of assets.\""
   ]
  },
  {
   "cell_type": "code",
   "execution_count": 20,
   "id": "62076508-8398-4ca3-b5b6-f8577e254112",
   "metadata": {},
   "outputs": [],
   "source": [
    "input_ids_0 = input_ids = tokenizer(TEXT_0, return_tensors=\"pt\").input_ids"
   ]
  },
  {
   "cell_type": "code",
   "execution_count": 17,
   "id": "c4ed6f6f-f4f4-4002-9dcb-b115976f6cea",
   "metadata": {},
   "outputs": [
    {
     "name": "stdout",
     "output_type": "stream",
     "text": [
      "CPU times: user 7min 11s, sys: 11.1 s, total: 7min 22s\n",
      "Wall time: 15.1 s\n"
     ]
    }
   ],
   "source": [
    "%%time\n",
    "# Generate the output (Here, we use beam search but you can also use any other strategy you like)\n",
    "output_ids_0 = model.generate(\n",
    "    input_ids_0, \n",
    "    max_length=64, \n",
    "    num_beams=5, \n",
    "    early_stopping=True\n",
    ")"
   ]
  },
  {
   "cell_type": "code",
   "execution_count": 18,
   "id": "de25ff07-c2ff-463b-8391-47efbe2a1441",
   "metadata": {},
   "outputs": [],
   "source": [
    "SUMMARY_0 = tokenizer.decode(output_ids_0[0], skip_special_tokens=True)"
   ]
  },
  {
   "cell_type": "code",
   "execution_count": 14,
   "id": "5e4b9de4-c416-4348-89f3-f75505742be5",
   "metadata": {},
   "outputs": [
    {
     "name": "stdout",
     "output_type": "stream",
     "text": [
      "Saudi bank to pay a 3.5% premium to Samba share price. Gulf region’s third-largest lender will have total assets of $220 billion\n"
     ]
    }
   ],
   "source": [
    "# Finally, we can print the generated summary\n",
    "print(SUMMARY_0)\n",
    "# Generated Output: Saudi bank to pay a 3.5% premium to Samba share price. Gulf region’s third-largest lender will have total assets of $220 billion"
   ]
  },
  {
   "cell_type": "code",
   "execution_count": 19,
   "id": "f282c0f6-f00a-4f7f-841e-2a62cd00e9b4",
   "metadata": {},
   "outputs": [],
   "source": [
    "TEXT_1 = \"\"\"\n",
    "Alaska Governor Mike Dunleavy issued the following statement today regarding the unidentified object shot down this morning over Alaskan waters.\n",
    "\n",
    "“Today’s announcement by the Pentagon that an unidentified object was shot down by an F-22 from Joint Base Elmendorf Richardson over Alaska’s coastline raises serious national security concerns that should concern every American. I want to thank our Alaska-based military for eliminating the potential threat before it was flying over our land.\n",
    "\n",
    "This latest intrusion into our airspace raises serious questions about the White House’s decision to not shoot down a Chinese spy balloon last week when it was above the Aleutian Chain and prevent it from flying over important military sites in the Lower-48.\n",
    "\n",
    "Unlike other states, Alaska is truly on the front lines. Because of our close proximity to our neighbors there is very little margin for error. Russian territory is only a few miles away. We are the one state closest to the Korean Peninsula and China. Alaska is truly on the front lines.\n",
    "\n",
    "As such, decisions need to be made quickly to preserve the territorial integrity of Alaska and the United States. This incident is further evidence that the military capability of Alaska is robust. An important discussion should ensue about improving those capabilities, including icebreakers, Army, Air Force and Navy capabilities.\n",
    "\n",
    "If the last few days are any indication, this may be the new norm and we must be prepared. The Alaska National Guard is working closely with USNORTHCOM and other agencies to provide any support as requested.\n",
    "\n",
    "This latest incident demonstrates that Alaska remains the most strategic place on earth for both geopolitics and national defense.”\n",
    "\"\"\""
   ]
  },
  {
   "cell_type": "code",
   "execution_count": 21,
   "id": "d5649320-afed-405c-be67-4fe6ae5d0aab",
   "metadata": {},
   "outputs": [],
   "source": [
    "input_ids_1 = input_ids = tokenizer(TEXT_1, return_tensors=\"pt\").input_ids"
   ]
  },
  {
   "cell_type": "code",
   "execution_count": 22,
   "id": "10bf45a6-e72e-4bfa-bd57-1f079847d1bc",
   "metadata": {},
   "outputs": [
    {
     "name": "stdout",
     "output_type": "stream",
     "text": [
      "CPU times: user 1min 10s, sys: 603 ms, total: 1min 11s\n",
      "Wall time: 2.33 s\n"
     ]
    }
   ],
   "source": [
    "%%time\n",
    "# Generate the output (Here, we use beam search but you can also use any other strategy you like)\n",
    "output_ids_1 = model.generate(\n",
    "    input_ids_1, \n",
    "    max_length=64, \n",
    "    num_beams=5, \n",
    "    early_stopping=True\n",
    ")"
   ]
  },
  {
   "cell_type": "code",
   "execution_count": 23,
   "id": "c25b15bb-010a-4cce-8c48-f07f1e92460b",
   "metadata": {},
   "outputs": [],
   "source": [
    "SUMMARY_1 = tokenizer.decode(output_ids_1[0], skip_special_tokens=True)"
   ]
  },
  {
   "cell_type": "code",
   "execution_count": 24,
   "id": "87e414e0-e4e9-40c3-af83-dfdc57acf9a1",
   "metadata": {},
   "outputs": [
    {
     "name": "stdout",
     "output_type": "stream",
     "text": [
      "F-22 shot down an unidentified object over Alaska’s coastline. Dunleavy says shooting down object removes potential threat to land\n"
     ]
    }
   ],
   "source": [
    "print(SUMMARY_1)"
   ]
  },
  {
   "cell_type": "markdown",
   "id": "ab82bdc7-416e-4d81-ad7e-d315f4a6a55c",
   "metadata": {},
   "source": [
    "# ENCAPSULATE "
   ]
  },
  {
   "cell_type": "code",
   "execution_count": 58,
   "id": "b3e30616-b4d3-4a63-8b21-59e4ff8fea46",
   "metadata": {},
   "outputs": [],
   "source": [
    "def summarize(text, *, max_output_len=64, max_input_len=512, chunk_len=512, num_beams=5, early_stopping=True, truncate=True, by_chunk=False):\n",
    "    def _summarize(txt):\n",
    "        if truncate:\n",
    "            txt_ = txt[:max_input_len]\n",
    "        else:\n",
    "            txt_ = txt\n",
    "        _input_ids = tokenizer(txt_, return_tensors=\"pt\").input_ids\n",
    "        _output_ids = model.generate(_input_ids, \n",
    "                                    max_length=max_output_len, \n",
    "                                    num_beams=num_beams, \n",
    "                                    early_stopping=early_stopping\n",
    "                                    )\n",
    "        _summary = tokenizer.decode(_output_ids[0], skip_special_tokens=True)\n",
    "        return _summary\n",
    "    if by_chunk:\n",
    "        text_len = len(text)\n",
    "        summaries = []\n",
    "        for hi in range(0, text_len, chunk_len):\n",
    "            lo = hi\n",
    "            hi = lo + chunk_len\n",
    "            chunk = text[lo:hi]\n",
    "            chunk_summary = _summarize(chunk)\n",
    "            summaries.append(chunk_summary)\n",
    "    else:\n",
    "        summaries = [_summarize(text)]\n",
    "    return summaries"
   ]
  },
  {
   "cell_type": "code",
   "execution_count": 59,
   "id": "6bffba98-224c-4b18-ae01-cb96f925eebc",
   "metadata": {},
   "outputs": [],
   "source": [
    "TEXT_2 = \"\"\"\n",
    "Toronto Mayor John Tory abruptly resigned on Friday after saying he had a relationship with a staff member, only months after cruising to reelection on a pledge to fix a housing crisis in North America’s fourth-largest city.\n",
    "\n",
    "“During the pandemic, I developed a relationship with an employee in my office in a way that did not meet the standards to which I hold myself as mayor and as a family man,” Tory said at a press conference. “I’ve decided that I would step down as mayor so that I could take the time to reflect on my mistakes and to do the work of rebuilding the trust of my family.”\n",
    "\n",
    "Canada’s financial capital is facing a number of challenges, including the lingering financial effects of Covid-19 lockdowns, a potential recession and a housing affordability crisis. Tory’s promise to fix the latter was one of his main campaign pledges when he won an unprecedented third consecutive term in October. \n",
    "\n",
    "Canada saw some of the fastest house price inflation in the world, while Toronto was named the world’s biggest housing bubble last year by Swiss bank UBS Group. The city has not been building homes fast enough to keep up with immigration-led population growth and a lack of supply is seen as the main cause of soaring prices that, while off their peak, remain lofty.\n",
    "\n",
    "Tory had proposed a major policy shift that would open residential land reserved for single-family homes for the development of multiplexes and small apartment buildings, with mid-rises on commercial streets. \n",
    "\n",
    "During Friday’s news conference, Tory said he began a relationship with an employee in his office during the pandemic. The staffer left City Hall to work elsewhere during the affair and the relationship ended “by mutual consent” earlier this year, he said. He took no questions.  \n",
    "\n",
    "“I think it is important, as I always have, for the office of the mayor not to be in any way tarnished and not to see the city government itself put through a period of prolonged controversy, arising out of this error in judgment on my part, especially in light of some of the challenges that we face as a city,” said Tory, who was elected to the office in 2014.\n",
    "\n",
    "Even-featured and gray-haired, Tory, 68, has long been a public figure in Toronto — a former leader of a provincial political party, business executive and talk radio host. He hails from an established Toronto business family, whose name adorns a storied law firm, Torys LLP, founded by his grandfather. He has been married for more than 40 years.\n",
    "\n",
    "Tory said he will work with the city manager, city clerk and Deputy Mayor Jennifer McKelvie to ensure an orderly transition. An environmental geoscientist, McKelvie was first elected as a city councilor in 2018. Under Ontario legislation governing the city, it will hold a special election to fill the mayor’s office in the coming months.  \n",
    "\n",
    "\n",
    "\"\"\""
   ]
  },
  {
   "cell_type": "code",
   "execution_count": 107,
   "id": "0ed769b3-a35b-4051-84ec-d69dce097a11",
   "metadata": {},
   "outputs": [
    {
     "name": "stdout",
     "output_type": "stream",
     "text": [
      "John Tory says he had a relationship with employee. He says he will not seek re-election in 2020\n",
      "CPU times: user 3min 17s, sys: 150 ms, total: 3min 18s\n",
      "Wall time: 6.73 s\n"
     ]
    }
   ],
   "source": [
    "%%time\n",
    "SUMMARY_2 = summarize(TEXT_2, max_output_len=256)[0]\n",
    "print(SUMMARY_2)"
   ]
  },
  {
   "cell_type": "code",
   "execution_count": null,
   "id": "63e02fb0-751a-46f3-aead-b6bdf035becc",
   "metadata": {},
   "outputs": [],
   "source": []
  },
  {
   "cell_type": "code",
   "execution_count": 61,
   "id": "c08f4ec7-ce3b-46c9-84b1-e13b17333781",
   "metadata": {},
   "outputs": [
    {
     "name": "stdout",
     "output_type": "stream",
     "text": [
      "['John Tory says he had a relationship with employee. He says he will not seek re-election in 2020', 'Toronto Mayor John Tory says he’s taking a break from politics.', 'Toronto Mayor John Tory drops plan to open up land for development.', 'Toronto Mayor Rob Ford has admitted to having an affair.', 'John Tory has been re-elected as mayor of Canada’s largest city.', 'City Councilor McKelvie named interim mayor.']\n",
      "CPU times: user 2h 6min 43s, sys: 10.5 s, total: 2h 6min 54s\n",
      "Wall time: 4min 24s\n"
     ]
    }
   ],
   "source": [
    "%%time\n",
    "SUMMARIES_2 = summarize(TEXT_2, by_chunk=True)\n"
   ]
  },
  {
   "cell_type": "code",
   "execution_count": 62,
   "id": "149aba44-1b7e-458e-9a63-a83066d54727",
   "metadata": {},
   "outputs": [
    {
     "name": "stdout",
     "output_type": "stream",
     "text": [
      "John Tory says he had a relationship with employee. He says he will not seek re-election in 2020\n",
      "Toronto Mayor John Tory says he’s taking a break from politics.\n",
      "Toronto Mayor John Tory drops plan to open up land for development.\n",
      "Toronto Mayor Rob Ford has admitted to having an affair.\n",
      "John Tory has been re-elected as mayor of Canada’s largest city.\n",
      "City Councilor McKelvie named interim mayor.\n"
     ]
    },
    {
     "data": {
      "text/plain": [
       "[None, None, None, None, None, None]"
      ]
     },
     "execution_count": 62,
     "metadata": {},
     "output_type": "execute_result"
    }
   ],
   "source": [
    "[print(_) for _ in SUMMARIES_2]"
   ]
  },
  {
   "cell_type": "code",
   "execution_count": 63,
   "id": "2f5f3cfc-6603-4b80-87bd-913b79b8a414",
   "metadata": {},
   "outputs": [
    {
     "name": "stdout",
     "output_type": "stream",
     "text": [
      "CPU times: user 49 s, sys: 130 ms, total: 49.1 s\n",
      "Wall time: 1.64 s\n"
     ]
    }
   ],
   "source": [
    "%%time\n",
    "SUMMARY_2 = '\\n'.join(SUMMARIES_2)\n",
    "META_SUMMARY_2 = summarize(SUMMARY_2)[0]"
   ]
  },
  {
   "cell_type": "code",
   "execution_count": 64,
   "id": "d28fa475-235f-4ace-a8e0-439f04346108",
   "metadata": {},
   "outputs": [
    {
     "name": "stdout",
     "output_type": "stream",
     "text": [
      "Toronto Mayor says he will not seek re-election in 2020. Rob Ford has admitted to having an affair\n"
     ]
    }
   ],
   "source": [
    "print(META_SUMMARY_2)"
   ]
  },
  {
   "cell_type": "code",
   "execution_count": 66,
   "id": "58ae1916-867f-4705-b79e-dc70f02e2b5b",
   "metadata": {},
   "outputs": [],
   "source": [
    "TEXT_3 = \"\"\"\n",
    "When news broke that Trafigura Group faces more than half a billion dollars in losses from what it described as a “systematic fraud,” the biggest surprise for many market insiders wasn’t the commodity trader’s missing nickel cargoes. It was that one of the industry’s largest players was still doing business with a man that others had long since backed away from.\n",
    "\n",
    "Indian businessman Prateek Gupta and his companies, against whom Trafigura secured a $625 million freezing order this week, have a checkered history in the trading world.\n",
    "\n",
    "Merchant Gunvor Group and trade finance fund TransAsia Private Capital Ltd. lost money in earlier dealings with Gupta’s companies, public filings show. Others, including banks and counterparties, became uncomfortable at times with the group’s trading activities, according to several people who either worked at the group or did business with it. Last year, India’s federal police announced it’s investigating allegations of fraud against Gupta himself.\n",
    "\n",
    "Ian Milne, a former commodity trade finance executive at Rabobank and HSBC Holdings Plc who worked at TransAsia for two years in 2018 to 2020 trying to recover debts from Gupta’s companies, said he “had to rub my eyes a couple of times” when he saw the news this week.\n",
    "\n",
    "“It’s very well known in the market that these guys have a highly dubious reputation,” Milne said in an interview. “Most people haven’t dealt with them for many years.”\n",
    "\n",
    "Trafigura’s losses have shocked the commodity trading world, demonstrating that even one of the largest companies isn’t able to avoid the kind of blowups and risks that have plagued the industry in recent years, and raising questions about the whole sector’s risk management.\n",
    "\n",
    "Bloomberg made multiple attempts  by phone and email to reach Gupta and companies owned by, or otherwise linked to him for comment on Friday but did not receive any response.\n",
    "\n",
    "Trafigura said that it began investigating after identifying a number of red flags.\n",
    "\n",
    "“This was a systematic fraud perpetrated after a long and legitimate business relationship dating back to 2015 that involved misrepresentation and widespread falsification of primary and supporting documentation,” a spokeswoman said. “Any fraud is an opportunity to review and tighten systems and procedures and a thorough review is underway.”\n",
    "\n",
    "Gupta was born in 1979 into a commodity trading family. His father Vijay was a steel trader who represented Brazilian and Spanish companies importing iron and steel products into India in the 1980s and 1990s, according to a company obituary. When he died in 2009, Prateek took over the running of the family company, Mumbai-based Ushdev International Ltd., with his mother Suman as chair. At its peak in the early 2010s, the company had a market capitalization of about $250 million.\n",
    "\n",
    "In person, Gupta is charming and rarely flustered, say several people who’ve done business with him. \n",
    "\n",
    "“He has a very laid-back style. Whatever the problem is, he’ll say it’s not really a problem, it’s all going to be solved,” said Milne, who now works for MonetaGo, which builds technology to help banks and others avoid trade-finance frauds.\n",
    "\n",
    "Jonas Rey, chief executive officer of Athena Intelligence, a corporate intelligence company in Geneva that provides support to trade finance entities, said he investigated entities including TMT on behalf of several clients.\n",
    "\n",
    "“We provided intel to multiple clients on TMT’s involvement in what we called a carousel fraud,” he said. “You have one cargo in the middle, you create 10 companies around it, and they sell the cargo to one another. One cargo gets financed 10 times. It’s like a financial musical chair. Eventually everything comes crashing down.”\n",
    "\n",
    "Several companies came to regret their dealings with Gupta. Gunvor was left with exposure to Ushdev in the tens of millions of dollars when it got into financial trouble, according to company filings and people familiar with the matter. The exposure only led to a relatively small loss for Gunvor as it claimed on its insurance. Still, it was a blow that coincided with Gunvor’s decision to close its metal-trading desk in 2016.\n",
    "\n",
    "A list of creditors published when Ushdev went into insolvency in 2018 showed that Gunvor was its largest non-bank creditor with an exposure of 3 billion rupees (about $45 million at the time).\n",
    "\n",
    "A Gunvor spokesman declined to comment.\n",
    "\n",
    "TransAsia is still embroiled in legal disputes with Gupta companies over alleged unpaid debts linked to its financing of trade in metals including copper. In one instance that’s been made public in Singapore courts, the trade finance fund claims that Gupta’s UD Trading Group Holding owes it $63 million. UD Trading has in the past said it doesn't believe it's liable for the debt.\n",
    "\n",
    "Last July, the Central Bureau of Investigation – India’s equivalent of the FBI – said it had opened an investigation into Prateek and Suman Gupta, as well as Ushdev, over alleged fraud after a complaint made by State Bank of India. The CBI said in a press release it had conducted searches in three locations which had led to the “recovery of incriminating documents/articles.”\n",
    "\n",
    "For Trafigura, the saga will raise difficult questions over how it vets its business partners.\n",
    "\n",
    "“The postmortem will probably be ruthless internally,” said Jean-Francois Lambert, a consultant and former trade finance banker. “Traders and risk management will be challenged.”\n",
    "\n",
    "\"\"\""
   ]
  },
  {
   "cell_type": "code",
   "execution_count": 67,
   "id": "02767fb4-b9bd-4b05-a209-4a874730ba89",
   "metadata": {},
   "outputs": [
    {
     "name": "stdout",
     "output_type": "stream",
     "text": [
      "CPU times: user 2h 21s, sys: 9.54 s, total: 2h 31s\n",
      "Wall time: 4min 9s\n"
     ]
    }
   ],
   "source": [
    "%%time\n",
    "SUMMARIES_3 = summarize(TEXT_3, by_chunk=True)\n"
   ]
  },
  {
   "cell_type": "code",
   "execution_count": 69,
   "id": "49f377cd-d42a-4d6e-9b62-c0877a7bd975",
   "metadata": {},
   "outputs": [
    {
     "name": "stdout",
     "output_type": "stream",
     "text": [
      "Indian businessman has been at the heart of fraud allegations. Trafigura’s losses could top half a billion dollars\n",
      "Some banks and firms became uncomfortable with trading activities. Others, including banks and counterparties, became uncomfortable at times\n",
      "Milne worked at TransAsia for two years trying to recover debts. Trafigura’s losses have shocked the commodity trading world\n",
      "Trafigura says ‘ systematic fraud’ carried out by Gupta’s companies. Questions remain about risk management in oil industry\n",
      "Prominent Indian commodities trader Sanjay Gupta has been suspended by his firm.\n",
      "Prateek Gupta is one of India’s richest men, with a fortune of more than $1 billion.\n",
      "TMT was involved in a ‘carousel fraud,’ Athena CEO says.\n",
      "Glencore, Vitol also had exposure to Ushdev, people familiar say.\n",
      "Ushdev’s exposure to Gunvor was about $45 million. TransAsia is still embroiled in legal disputes with Gupta companies\n",
      "Prateek Gupta, Suman Gupta and Ushdev are being investigated. State Bank of India has accused UD Trading of fraud.\n",
      "Oil trader faces criminal and civil probes. Trafigura’s reputation could be damaged by the scandal, says former banker\n"
     ]
    }
   ],
   "source": [
    "for _ in SUMMARIES_3:\n",
    "    print(_)"
   ]
  },
  {
   "cell_type": "code",
   "execution_count": 70,
   "id": "851e39d9-ea6e-40cd-8ca3-d9e9fdd3a3bb",
   "metadata": {},
   "outputs": [
    {
     "name": "stdout",
     "output_type": "stream",
     "text": [
      "CPU times: user 8min 12s, sys: 783 ms, total: 8min 13s\n",
      "Wall time: 16.9 s\n"
     ]
    }
   ],
   "source": [
    "%%time\n",
    "SUMMARY_3 = summarize(TEXT_3)"
   ]
  },
  {
   "cell_type": "code",
   "execution_count": 71,
   "id": "6136f23d-2230-4843-ae20-61c6c8593686",
   "metadata": {},
   "outputs": [
    {
     "name": "stdout",
     "output_type": "stream",
     "text": [
      "['Indian businessman has been at the heart of fraud allegations. Trafigura’s losses could top half a billion dollars']\n"
     ]
    }
   ],
   "source": [
    "print(SUMMARY_3)"
   ]
  },
  {
   "cell_type": "code",
   "execution_count": 73,
   "id": "1169f254-67e1-497c-a999-46d17c5b8be3",
   "metadata": {},
   "outputs": [
    {
     "name": "stdout",
     "output_type": "stream",
     "text": [
      "CPU times: user 11min 18s, sys: 796 ms, total: 11min 19s\n",
      "Wall time: 23.3 s\n"
     ]
    }
   ],
   "source": [
    "%%time\n",
    "META_SUMMARY_3 = summarize('\\n'.join(SUMMARIES_3))"
   ]
  },
  {
   "cell_type": "code",
   "execution_count": 74,
   "id": "de0e848f-e8c6-42bf-b4f3-39017f73f5d3",
   "metadata": {},
   "outputs": [
    {
     "name": "stdout",
     "output_type": "stream",
     "text": [
      "['Milne worked at TransAsia for two years trying to recover debts. Trafigura says ‘ systematic fraud’ carried out by Gupta’s companies']\n"
     ]
    }
   ],
   "source": [
    "print(META_SUMMARY_3)"
   ]
  },
  {
   "cell_type": "code",
   "execution_count": 75,
   "id": "2b8f34ba-8794-41f4-83e6-39f11337413b",
   "metadata": {},
   "outputs": [],
   "source": [
    "TEXT_4 = \"\"\"\n",
    "When the Montgomery County Police Department vacated its Third District station in 2014, it offered an opportunity to build something new right on the edge of downtown Silver Spring, Maryland — a suburb dealing with growing pains.\n",
    "\n",
    "The unincorporated neighborhood, located just over the border with Washington, DC, has enjoyed a major urban revival following decades of decline. Part of this transformation has taken the form of a thriving arts and entertainment district, with a new civic building opened in 2010 and a shopping mall overhaul completed in 2015.\n",
    "\n",
    "\n",
    "All this change made the 2.5-acre lot occupied by the old police station a hot ticket — and a point of contention. Home and rental prices in Montgomery County — and much of the DC area — have soared in recent years, but single-family homeowners have resisted new multifamily development. After county officials proposed building affordable housing on the lot, residents who lived next to the site pitched an alternative: an arts center to fill the dearth of working spaces for local artists, who they said were getting priced out of the area.\n",
    "\n",
    "This disagreement could have led to a bitter land-use battle over 801 Sligo Avenue. Instead, the two ideas came together in a proposal from Artspace, a Minneapolis-based nonprofit developer that builds affordable live-work spaces for low-income artists. The group had previously completed two artist housing projects in the area: a 44-unit building along the historic corridor of suburban Mount Rainier, Maryland, and a 39-unit complex in DC’s Brookland neighborhood.\n",
    "\n",
    "relates to In the DC Suburbs, an Artful Compromise Over Density and Housing\n",
    "Photos: BKV Group. Illustration: Stephanie Davidson\n",
    "Completed in 2020, Artspace Silver Spring is a mixed-used artist campus comprising a four-story apartment complex with a total of 68 affordable units and 11 for-sale townhomes wrapped around a central courtyard. Each apartment unit is restricted to applicants earning less than 60% of the area median income, with preference given to artists.\n",
    "\n",
    "The first floor of the former police station — a white-brick structure built in the 1960s — has been preserved as the hub of the development and converted into studio spaces for lease, with glass entrances that open up to a paved public plaza.\n",
    "\n",
    "\n",
    "For architects at BKV Group, a partner on the project, designing for artists was the easy part: Units are roughly 20% larger than comparable market-rate apartments, with open floor plans, high ceilings and wide entryways and corridors to accommodate those who work with larger-than-usual mediums. Communal areas like the main lobby and parts of the hallways double as gallery space for artists to display their work, and the outdoor spaces offer residents and the public a place to gather.\n",
    "\n",
    "“It’s a contemporary interpretation of an old industrial artist loft, with materials meant to complement [those] of the police station,” says Willy Bermudez, senior design leader and partner at the firm.\n",
    "\n",
    "relates to In the DC Suburbs, an Artful Compromise Over Density and Housing\n",
    "Photos: BKV Group. Illustration: Stephanie Davidson\n",
    "More challenging was creating something that seamlessly connects Silver Spring’s busy commercial district to the quiet neighborhood next door — and that met the demands of the site’s immediate neighbors, who were involved in nearly every step of the design process. “Zoning was a key element of this process because the site was between a heavily commercial area with tall buildings, and a single-family residential area,” says Bermudez. “We had to transition the project from one side to the other.”\n",
    "\n",
    "The team decided to build the apartment complex on the sides that shared a street with the commercial area, to act as a screen between the two zones. Across the courtyard, the row of townhouses faces the existing neighborhood; their welcoming front porches and design borrow elements from the 1920s bungalow-style homes directly across the street.\n",
    "\n",
    "“The [neighbors] wanted some of the design to feel like part of our neighborhood,” says Karen Roper, a community activist formerly with East Silver Spring Citizens Association, who led the charge on ensuring that residents’ voices were heard during the planning and construction process. “They didn’t want the campus to look like it was separate from the neighborhood. That was the big issue for them — and [the developers] listened to us very well.”\n",
    "\n",
    "Each townhome has a garage that opens up to the courtyard instead of the street, while the one shared by apartment dwellers — located beneath the complex — was built without exterior walls to keep the campus from feeling closed off. To better manage stormwater runoff and reduce pollution from paved surfaces, bioswales scattered on the grounds help absorb excess rainfall. And instead of wrapping the facade of the apartment and townhomes with vibrant colors, BKV Group settled on a darker and more mellow scheme, adding pops of yellow accents.\n",
    "\n",
    "relates to In the DC Suburbs, an Artful Compromise Over Density and Housing\n",
    "Photos: BKV Group. Illustration: Stephanie Davidson\n",
    "The project reflects the tricky balance between addressing an area’s severe housing shortage and getting community buy-in. Too much deference to public input stands to delay progress on adding new homes, or limit their ability to serve those in need. Opposition from existing homeowners can be powerful enough to cancel entire projects. Artist housing, too, can be a form of compromise over subsidized housing: A 2016 study from the University of Minnesota found that several such developments had far fewer non-white tenants than than other kinds of low-income housing in the Twin Cities. In its application process, Artspace emphasizes a commitment to attracting “individuals and families from diverse artistic and cultural backgrounds” — which shouldn’t be difficult, given Silver Spring’s ethnic diversity. \n",
    "\n",
    "As crowded metros like Montgomery County look to ramp up housing production and add apartment buildings to single-family neighborhoods in coming years, such tensions stand to amplify. Some homeowners are vehemently opposed to all growth; others just want more say in what gets built near them. As in this artist housing project, the design process may well be an area where developers, officials and residents can find common ground — ideally without losing sight of the long-term affordable housing goals.\n",
    "\n",
    "Roper said she’d like to see more development efforts take a bottom-up approach that emphasizes working with the community. “It was win-win for everybody,” she says.\n",
    "\"\"\""
   ]
  },
  {
   "cell_type": "code",
   "execution_count": 76,
   "id": "52995e2e-3752-43b2-af45-feabb3372844",
   "metadata": {},
   "outputs": [
    {
     "name": "stdout",
     "output_type": "stream",
     "text": [
      "CPU times: user 8min 22s, sys: 259 ms, total: 8min 23s\n",
      "Wall time: 17.2 s\n"
     ]
    }
   ],
   "source": [
    "%%time\n",
    "SUMMARY_4 = summarize(TEXT_4)\n",
    "# A former police station finds new life as low-income housing for artists in a development that bridges the divide between commercial and residential strips."
   ]
  },
  {
   "cell_type": "code",
   "execution_count": 77,
   "id": "688282c1-2d80-45a5-8216-bdaf17fa7f01",
   "metadata": {},
   "outputs": [
    {
     "name": "stdout",
     "output_type": "stream",
     "text": [
      "['A new civic building is part of a thriving arts and entertainment district.']\n"
     ]
    }
   ],
   "source": [
    "print(SUMMARY_4)"
   ]
  },
  {
   "cell_type": "code",
   "execution_count": 79,
   "id": "c97c2eaf-eba0-4ee4-babc-ecd19fbc3e73",
   "metadata": {},
   "outputs": [
    {
     "name": "stdout",
     "output_type": "stream",
     "text": [
      "CPU times: user 1h 18min 51s, sys: 3.65 s, total: 1h 18min 54s\n",
      "Wall time: 2min 42s\n"
     ]
    }
   ],
   "source": [
    "%%time\n",
    "SUMMARIES_4 = summarize(TEXT_4, by_chunk=True)"
   ]
  },
  {
   "cell_type": "code",
   "execution_count": 80,
   "id": "3594c9ab-84de-421d-ae31-ce9f4cb8627a",
   "metadata": {},
   "outputs": [
    {
     "name": "stdout",
     "output_type": "stream",
     "text": [
      "A new civic building is part of a thriving arts and entertainment district.\n",
      "A former police station site became the site of an arts center\n",
      "Developer wants to build housing for low-income artists.\n",
      "affordable housing complex in Washington, DC. Artspace Silver Spring is a mixed-used artist campus\n",
      "Studio apartments in New York’s Meatpacking District are designed for artists.\n",
      "Bermudez’s design for a police station in Washington, D.C.\n",
      "Site was a prime location in the heart of Silver Spring, Maryland. BKV’s Bermudez worked closely with the city’s planning department.\n",
      "Team wanted to create a ‘screen’ between commercial and residential areas\n",
      "Residents say they were ignored during construction process\n",
      "BKV Group designed a mixed-use development in Washington, DC, with a focus on sustainability.\n",
      "Controversial artist housing can help solve housing crisis.\n",
      "Artspace plans to build 200 apartments in Silver Spring. Some homeowners are vehemently opposed to all gro\n",
      "Some want more affordable housing, others want more open space.\n"
     ]
    }
   ],
   "source": [
    "for _ in SUMMARIES_4:\n",
    "    print(_)"
   ]
  },
  {
   "cell_type": "code",
   "execution_count": 81,
   "id": "abb12ab7-7694-4356-89c0-cd48fbe5542b",
   "metadata": {},
   "outputs": [
    {
     "name": "stdout",
     "output_type": "stream",
     "text": [
      "CPU times: user 11min 56s, sys: 418 ms, total: 11min 56s\n",
      "Wall time: 24.6 s\n"
     ]
    }
   ],
   "source": [
    "%%time\n",
    "META_SUMMARY_4 = summarize('\\n'.join(SUMMARIES_4))"
   ]
  },
  {
   "cell_type": "code",
   "execution_count": 82,
   "id": "2670516b-625c-4b97-8168-3f137c01d2ba",
   "metadata": {},
   "outputs": [
    {
     "name": "stdout",
     "output_type": "stream",
     "text": [
      "['Bermudez’s design for a police station in Washington, D.C. Site was a prime location in Silver Spring, Maryland.']\n"
     ]
    }
   ],
   "source": [
    "print(META_SUMMARY_4)"
   ]
  },
  {
   "cell_type": "code",
   "execution_count": 100,
   "id": "def88ea8-55f5-4d20-a93f-758282980b3d",
   "metadata": {},
   "outputs": [],
   "source": [
    "URL_5 = \"https://www.bloomberg.com/news/features/2023-02-11/suburban-police-station-finds-new-life-as-artist-housing?srnd=premium&sref=dFV3EAbi\"\n",
    "TEXT_5 = \"\"\"\n",
    "Nikola Corp. has started work on hydrogen plants, part of a fueling network the company intends to underpin its push to compete in the nascent zero-emissions truck market. \n",
    "\n",
    "The seven-year-old manufacturer has also signed up a handful of hydrogen producers that have agreed to supply hydrogen for Nikola vehicles in parts of the U.S. and Canada, as the company seeks to have enough fuel for about 7,500 heavy-duty trucks by 2026.\n",
    "\n",
    "The planned supply network is critical for Nikola’s strategy to begin assembling hydrogen fuel-cell electric trucks for the market later this year. Unlike battery-electric vehicles that can be recharged with electricity in many existing places, Nikola’s trucks need hydrogen to keep them on the road.\n",
    "\n",
    "“The infrastructure for hydrogen doesn’t really exist for heavy transport,” said Carey Mendes, president of Nikola’s energy business. “If we’re going to sell hydrogen fuel-cell trucks, we have to have that infrastructure.”\n",
    "\n",
    "\n",
    "Nikola, based in Arizona, said it began work late last year on a plant in the Phoenix suburb of Buckeye to extract hydrogen from water. Nikola forecast the initial hydrogen production volume at about 30 metric tons a day by late 2024. The company said it is negotiating an investment agreement for the plant with Fortescue Future Industries, a unit of Australian iron ore company Fortescue Metals Group Ltd.\n",
    "\n",
    "A companion storage plant is planned at the site with hydrogen company Plug Power Inc., Nikola said. The storage plant will be able to turn hydrogen gas into a liquid at very low temperatures, making it easier to transport. Nikola said it intends to ship the hydrogen by truck to the company’s first three filling stations in California.\n",
    "\n",
    "The hydrogen fuel network represents one of Nikola’s biggest challenges as it prepares to compete with battery-electric truck rivals, including electric-car maker Tesla Inc. and diesel truck manufacturers rolling out electric models. Many established truck makers have said they expect the limited availability of hydrogen to hold down demand for hydrogen trucks, and predict battery-electric trucks will become the first choice for truck operators seeking an electric alternative to diesel.  \n",
    "\n",
    "Nikola’s executives are trying to repair the company’s reputation after founder and former chief executive Trevor Milton last year was found guilty of securities fraud for what prosecutors described as repeated lies to investors and others about Nikola’s trucks. The company said it has cooperated with government investigations and is focused on its business strategy.\n",
    "\n",
    "Nikola settled a Securities and Exchange Commission probe for $125 million.\n",
    "\n",
    "The company, which saw its stock price soar to nearly $80 a share shortly after going public in 2020, has leaned heavily on outside partners for hydrogen fuel plants. Nikola’s cash reserves have diminished and its stock price has dropped below $3, making it increasingly difficult to bankroll projects on its own, analysts said. \n",
    "\n",
    "Nikola said it has orders for about 1,000 hydrogen trucks, with 800 going to beer brewer Anheuser-Busch InBev NV. Nikola in the fall scaled back production of its own battery-electric model to conserve its cash. \n",
    "\n",
    "A chemical reaction between oxygen and hydrogen creates electricity that powers the truck’s electric motor. Nikola said its hydrogen trucks can travel about 500 miles before having to refuel with hydrogen, compared with a total of about 300 miles for some trucks with rechargeable batteries.\n",
    "\n",
    "\n",
    "Nikola trucks will initially be offered on leases that the company said will include the cost of hydrogen fuel factored into lease payments.\n",
    "\n",
    "Nikola said it has hydrogen supply commitments from Pennsylvania-based KeyState Natural Gas Synthesis LLC, Wabash Valley Resources LLC in Indiana, Canada’s TC Energy Corp. and New York-based Plug Power. To meet its trucks’ targeted zero-emissions profile, Nikola needs to obtain hydrogen from the limited supplies made from low-carbon or zero-emissions processes. \n",
    "\n",
    "Nikola is offering suppliers the prospect of a dedicated fleet of trucks that would consume their hydrogen. “If we can get hydrogen to our customers at a competitive rate, they’ll buy more trucks and we’ll buy more hydrogen,” Mr. Mendes said.\n",
    "\n",
    "Nikola’s trucks initially will be offered on leases that will include the cost of hydrogen fuel, which Nikola said will be factored into lease payments at a fixed price or a variable rate.\n",
    "\n",
    "\n",
    "KeyState said it would provide Nikola with up to 100 metric tons of hydrogen a day from natural gas wells in central Pennsylvania. Perry Babb, KeyState’s chief executive, said he expects his company to become Nikola’s primary hydrogen supplier for the U.S. mid-Atlantic region. \n",
    "\n",
    "“We’re willing to do a long-term agreement that gives us some security in an immature hydrogen market,” said Mr. Babb, who didn’t disclose the terms for KeyState’s supply agreement with Nikola.\n",
    "\n",
    "\n",
    "Plug Power, which specializes in extracting the hydrogen from water, will start providing hydrogen to Nikola this year. Plug Power CEO Andy Marsh said he isn’t worried about ending up with too much production capacity for hydrogen if the actual demand for Nikola’s trucks turns out lower than anticipated.\n",
    "\n",
    "“I have places to put this hydrogen regardless,” he said. “The risks are pretty low.”    \n",
    "\n",
    "Nikola plans to locate its first three fueling stations near Los Angeles. The truck maker says it will brand its hydrogen and stations under the name “Hyla,” combining “hydrogen” and “Nikola.”\n",
    "\n",
    "The company anticipates as many as 60 Hyla stations in the U.S. in three years, many in California where the state is trying to encourage the use of zero-emissions vehicles with financial incentives.\n",
    "\n",
    "About 1,500 heavy-duty electric trucks were built in North America in 2022, about 0.5% of all the heavy-duty tractors produced, said truck-market forecaster ACT Research. Preston Feight, chief executive of Paccar Inc.—the maker of Peterbilt and Kenworth trucks—said he expects diesel engines to remain dominant in commercial trucks for several more years, but he is already selling battery-electric trucks and has hydrogen electric models under development.\n",
    "\n",
    "“If one brings a distinct advantage to our customers, we’re ready to offer it to them,” he said during a January conference call with analysts. “We’ll put in the market what makes sense financially.” \n",
    "\"\"\""
   ]
  },
  {
   "cell_type": "code",
   "execution_count": 112,
   "id": "756472e9-4f03-4b5a-b108-05f42d17400b",
   "metadata": {},
   "outputs": [
    {
     "name": "stdout",
     "output_type": "stream",
     "text": [
      "CPU times: user 3min 17s, sys: 189 ms, total: 3min 17s\n",
      "Wall time: 6.73 s\n"
     ]
    }
   ],
   "source": [
    "%%time\n",
    "SUMMARY_5 = summarize(TEXT_5, max_output_len=128, num_beams=10)"
   ]
  },
  {
   "cell_type": "code",
   "execution_count": 113,
   "id": "4a4219f9-1e08-4a36-91e2-5470fe01b099",
   "metadata": {},
   "outputs": [
    {
     "name": "stdout",
     "output_type": "stream",
     "text": [
      "['Fueling stations to be built in U.S., Canada. Truckmaker aims to have enough hydrogen for 7,500 vehicles']\n"
     ]
    }
   ],
   "source": [
    "print(SUMMARY_5)"
   ]
  },
  {
   "cell_type": "code",
   "execution_count": 103,
   "id": "bccb2f37-8dcf-4375-b10f-aaf01908da75",
   "metadata": {},
   "outputs": [
    {
     "name": "stdout",
     "output_type": "stream",
     "text": [
      "CPU times: user 1h 36min 8s, sys: 3.98 s, total: 1h 36min 12s\n",
      "Wall time: 3min 18s\n"
     ]
    }
   ],
   "source": [
    "%%time\n",
    "SUMMARIES_5 = summarize(TEXT_5, by_chunk=True)"
   ]
  },
  {
   "cell_type": "code",
   "execution_count": 104,
   "id": "a3b35ae3-3bd9-47b8-8e69-00df058e9df9",
   "metadata": {},
   "outputs": [
    {
     "name": "stdout",
     "output_type": "stream",
     "text": [
      "Fueling stations to be built in U.S., Canada. Truckmaker aims to have enough hydrogen for 7,500 vehicles\n",
      "Truckmaker is working on a network of hydrogen stations. Unlike battery-electric vehicles, Nikola’s trucks need hydrogen\n",
      "Nikola plans to build a $1 billion water-based hydrogen plant.\n",
      "Truck maker plans to start hydrogen-powered filling stations in California.\n",
      "Fuel-cell truck maker says battery-electric vehicles will be ‘first choice’ for operators. CEO says company is ‘getting back on track’\n",
      "Shares have dropped below $3 for the first time since going public\n",
      "Anheuser-Busch’s Nikola to offer hydrogen-powered trucks.\n",
      "Truck maker is offering hydrogen suppliers aDedicated fleet of vehicles.\n",
      "KeyState says it will provide up to 100 tons of hydrogen a day to Nikola.\n",
      "KeyState to start providing hydrogen to Nikola, CEO says. Plug Power to start providing hydrogen to Nikola this year\n",
      "Truckmaker plans to open as many as 60 hydrogen stations in U.S.\n",
      "More than half of new heavy-duty electric trucks built in 2022 are in North America.\n",
      "CEO says he’s looking to add new products to his portfolio.\n"
     ]
    }
   ],
   "source": [
    "for _ in SUMMARIES_5:\n",
    "    print(_)"
   ]
  },
  {
   "cell_type": "code",
   "execution_count": 105,
   "id": "6f18d762-acfc-4802-a6eb-ab3326be952f",
   "metadata": {},
   "outputs": [
    {
     "name": "stdout",
     "output_type": "stream",
     "text": [
      "CPU times: user 55.5 s, sys: 39.3 ms, total: 55.6 s\n",
      "Wall time: 1.85 s\n"
     ]
    }
   ],
   "source": [
    "%%time\n",
    "META_SUMMARY_5 = summarize('\\n'.join(SUMMARIES_5))"
   ]
  },
  {
   "cell_type": "code",
   "execution_count": 106,
   "id": "f62a5ab9-e0f5-43a0-99a8-20a526d46287",
   "metadata": {},
   "outputs": [
    {
     "name": "stdout",
     "output_type": "stream",
     "text": [
      "['Truckmaker to build $1 billion water-based hydrogen plant. Unlike battery-electric vehicles, Nikola’s trucks need hydrogen']\n"
     ]
    }
   ],
   "source": [
    "print(META_SUMMARY_5)"
   ]
  },
  {
   "cell_type": "raw",
   "id": "bfcf1999-7307-4077-9947-6024792cb212",
   "metadata": {},
   "source": [
    "#...\n",
    "def super_summary(text, **kwargs):\n",
    "    summary = summarize(text, **kwargs)\n",
    "    print(f\"SUMMARY: {summary}\")\n",
    "    summaries = summariz"
   ]
  }
 ],
 "metadata": {
  "kernelspec": {
   "display_name": "Python 3 (ipykernel)",
   "language": "python",
   "name": "python3"
  },
  "language_info": {
   "codemirror_mode": {
    "name": "ipython",
    "version": 3
   },
   "file_extension": ".py",
   "mimetype": "text/x-python",
   "name": "python",
   "nbconvert_exporter": "python",
   "pygments_lexer": "ipython3",
   "version": "3.8.13"
  }
 },
 "nbformat": 4,
 "nbformat_minor": 5
}
