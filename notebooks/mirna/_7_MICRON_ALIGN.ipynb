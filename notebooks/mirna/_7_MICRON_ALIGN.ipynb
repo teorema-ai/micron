{
 "cells": [
  {
   "cell_type": "code",
   "execution_count": 1,
   "id": "15b64794-2e38-4668-9b56-bd027d0c57d4",
   "metadata": {
    "tags": []
   },
   "outputs": [],
   "source": [
    "import datablocks\n",
    "from datablocks import DB, signature\n",
    "import micron, micron.datasets"
   ]
  },
  {
   "cell_type": "markdown",
   "id": "0b82335e-7736-41ad-89a8-644d1b0cef80",
   "metadata": {
    "tags": []
   },
   "source": [
    "# BIOPYTHON: ALIGN"
   ]
  },
  {
   "cell_type": "code",
   "execution_count": 5,
   "id": "55d64d4c-16b6-4831-b98b-071b601b3f33",
   "metadata": {
    "tags": []
   },
   "outputs": [],
   "source": [
    "from Bio import pairwise2\n",
    "from Bio.Seq import Seq"
   ]
  },
  {
   "cell_type": "code",
   "execution_count": 6,
   "id": "03f6e302-f71d-4d71-bc72-8827702e823a",
   "metadata": {
    "tags": []
   },
   "outputs": [],
   "source": [
    "seq1 = Seq(\"ACCGGT\") \n",
    "seq2 = Seq(\"ACGT\")"
   ]
  },
  {
   "cell_type": "code",
   "execution_count": 7,
   "id": "2f0c3d06-4a62-4cfb-97f3-0c020c5d5100",
   "metadata": {
    "tags": []
   },
   "outputs": [],
   "source": [
    "alignments = pairwise2.align.globalxx(seq1, seq2)"
   ]
  },
  {
   "cell_type": "code",
   "execution_count": 8,
   "id": "b2f16bf2-a56b-4e9d-91dc-6109d4d10faa",
   "metadata": {
    "tags": []
   },
   "outputs": [
    {
     "data": {
      "text/plain": [
       "[Alignment(seqA='ACCGGT', seqB='A-C-GT', score=4.0, start=0, end=6),\n",
       " Alignment(seqA='ACCGGT', seqB='AC--GT', score=4.0, start=0, end=6),\n",
       " Alignment(seqA='ACCGGT', seqB='A-CG-T', score=4.0, start=0, end=6),\n",
       " Alignment(seqA='ACCGGT', seqB='AC-G-T', score=4.0, start=0, end=6)]"
      ]
     },
     "execution_count": 8,
     "metadata": {},
     "output_type": "execute_result"
    }
   ],
   "source": [
    "alignments"
   ]
  },
  {
   "cell_type": "code",
   "execution_count": 9,
   "id": "59a277d4-22f8-4b2b-b53e-c94005e09094",
   "metadata": {
    "tags": []
   },
   "outputs": [
    {
     "name": "stdout",
     "output_type": "stream",
     "text": [
      "ACCGGT\n",
      "| | ||\n",
      "A-C-GT\n",
      "  Score=4\n",
      "\n",
      "ACCGGT\n",
      "||  ||\n",
      "AC--GT\n",
      "  Score=4\n",
      "\n",
      "ACCGGT\n",
      "| || |\n",
      "A-CG-T\n",
      "  Score=4\n",
      "\n",
      "ACCGGT\n",
      "|| | |\n",
      "AC-G-T\n",
      "  Score=4\n",
      "\n"
     ]
    }
   ],
   "source": [
    "for alignment in alignments: \n",
    "    print(pairwise2.format_alignment(*alignment)) "
   ]
  },
  {
   "cell_type": "markdown",
   "id": "ac830cda-702e-4268-8dff-0f308c298134",
   "metadata": {
    "tags": []
   },
   "source": [
    "## Preferred ALIGN usage"
   ]
  },
  {
   "cell_type": "code",
   "execution_count": 13,
   "id": "2f1f3e29-312a-4904-950d-c5d4f17fbe78",
   "metadata": {
    "tags": []
   },
   "outputs": [
    {
     "data": {
      "text/plain": [
       "Pairwise aligner, implementing the Needleman-Wunsch, Smith-Waterman, Gotoh, and Waterman-Smith-Beyer global and local alignment algorithms"
      ]
     },
     "execution_count": 13,
     "metadata": {},
     "output_type": "execute_result"
    }
   ],
   "source": [
    "from Bio import Align\n",
    "aligner = Align.PairwiseAligner()\n",
    "aligner"
   ]
  },
  {
   "cell_type": "code",
   "execution_count": 14,
   "id": "29ca58fb-a988-4670-914d-0f28c987a983",
   "metadata": {
    "tags": []
   },
   "outputs": [
    {
     "name": "stdout",
     "output_type": "stream",
     "text": [
      "Pairwise sequence aligner with parameters\n",
      "  wildcard: None\n",
      "  match_score: 1.000000\n",
      "  mismatch_score: 0.000000\n",
      "  target_internal_open_gap_score: 0.000000\n",
      "  target_internal_extend_gap_score: 0.000000\n",
      "  target_left_open_gap_score: 0.000000\n",
      "  target_left_extend_gap_score: 0.000000\n",
      "  target_right_open_gap_score: 0.000000\n",
      "  target_right_extend_gap_score: 0.000000\n",
      "  query_internal_open_gap_score: 0.000000\n",
      "  query_internal_extend_gap_score: 0.000000\n",
      "  query_left_open_gap_score: 0.000000\n",
      "  query_left_extend_gap_score: 0.000000\n",
      "  query_right_open_gap_score: 0.000000\n",
      "  query_right_extend_gap_score: 0.000000\n",
      "  mode: global\n",
      "\n"
     ]
    }
   ],
   "source": [
    "print(aligner)"
   ]
  },
  {
   "cell_type": "markdown",
   "id": "9f24015c-d501-4dfa-a797-a9a4c6d4bae0",
   "metadata": {
    "tags": []
   },
   "source": [
    "### score"
   ]
  },
  {
   "cell_type": "code",
   "execution_count": 12,
   "id": "8bbf5d9f-3669-4907-8272-5849cf38db61",
   "metadata": {
    "tags": []
   },
   "outputs": [
    {
     "data": {
      "text/plain": [
       "3.0"
      ]
     },
     "execution_count": 12,
     "metadata": {},
     "output_type": "execute_result"
    }
   ],
   "source": [
    "target = \"GAACT\"\n",
    "query = \"GAT\"\n",
    "score = aligner.score(target, query)\n",
    "score"
   ]
  },
  {
   "cell_type": "markdown",
   "id": "21bfe9a6-9a13-458b-9dfb-e24684d8074b",
   "metadata": {},
   "source": [
    "### alignments"
   ]
  },
  {
   "cell_type": "code",
   "execution_count": 15,
   "id": "91f7990a-41cc-4fcd-b593-be2550c0b357",
   "metadata": {
    "tags": []
   },
   "outputs": [
    {
     "name": "stdout",
     "output_type": "stream",
     "text": [
      "target            0 GAACT 5\n",
      "                  0 ||--| 5\n",
      "query             0 GA--T 3\n",
      "\n",
      "target            0 GAACT 5\n",
      "                  0 |-|-| 5\n",
      "query             0 G-A-T 3\n",
      "\n"
     ]
    }
   ],
   "source": [
    "alignments = aligner.align(target, query)\n",
    "for alignment in alignments:\n",
    "    print(alignment)"
   ]
  },
  {
   "cell_type": "markdown",
   "id": "f6dfa8a2-9dec-428b-aafd-38133d132f2f",
   "metadata": {},
   "source": [
    "### local"
   ]
  },
  {
   "cell_type": "code",
   "execution_count": 17,
   "id": "ce5ffa66-bd41-4d34-81c6-19a358f3d6b3",
   "metadata": {
    "tags": []
   },
   "outputs": [
    {
     "data": {
      "text/plain": [
       "5.0"
      ]
     },
     "execution_count": 17,
     "metadata": {},
     "output_type": "execute_result"
    }
   ],
   "source": [
    "aligner.mode = \"local\"\n",
    "target = \"AGAACTC\"\n",
    "query = \"GAACT\"\n",
    "score = aligner.score(target, query)\n",
    "score"
   ]
  },
  {
   "cell_type": "code",
   "execution_count": 18,
   "id": "5d804cc3-70a9-4704-87dd-cdaeb1a41972",
   "metadata": {
    "tags": []
   },
   "outputs": [
    {
     "name": "stdout",
     "output_type": "stream",
     "text": [
      "target            1 GAACT 6\n",
      "                  0 ||||| 5\n",
      "query             0 GAACT 5\n",
      "\n"
     ]
    }
   ],
   "source": [
    "alignments = aligner.align(target, query)\n",
    "for alignment in alignments:\n",
    "     print(alignment)"
   ]
  },
  {
   "cell_type": "markdown",
   "id": "8779b442-95e0-4e1e-a1e3-d7e1b2706e32",
   "metadata": {},
   "source": [
    "# DATASETS"
   ]
  }
 ],
 "metadata": {
  "kernelspec": {
   "display_name": "Python 3 (ipykernel)",
   "language": "python",
   "name": "python3"
  },
  "language_info": {
   "codemirror_mode": {
    "name": "ipython",
    "version": 3
   },
   "file_extension": ".py",
   "mimetype": "text/x-python",
   "name": "python",
   "nbconvert_exporter": "python",
   "pygments_lexer": "ipython3",
   "version": "3.9.6"
  }
 },
 "nbformat": 4,
 "nbformat_minor": 5
}
